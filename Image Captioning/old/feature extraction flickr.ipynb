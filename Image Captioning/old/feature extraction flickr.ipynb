{
 "cells": [
  {
   "cell_type": "code",
   "execution_count": 1,
   "metadata": {
    "execution": {
     "iopub.execute_input": "2022-08-28T18:41:52.556608Z",
     "iopub.status.busy": "2022-08-28T18:41:52.555321Z",
     "iopub.status.idle": "2022-08-28T18:41:58.936478Z",
     "shell.execute_reply": "2022-08-28T18:41:58.935481Z",
     "shell.execute_reply.started": "2022-08-28T18:41:52.556475Z"
    }
   },
   "outputs": [],
   "source": [
    "import numpy as np\n",
    "import pandas as pd\n",
    "import matplotlib.pyplot as plt\n",
    "import seaborn as sns\n",
    "import tensorflow as tf\n",
    "from tensorflow import keras\n",
    "from tensorflow.keras import layers, models\n",
    "import gc\n",
    "from kaggle_datasets import KaggleDatasets\n",
    "from tokenizers import ByteLevelBPETokenizer\n",
    "import os\n",
    "from tqdm import tqdm\n",
    "import time"
   ]
  },
  {
   "cell_type": "code",
   "execution_count": 2,
   "metadata": {
    "execution": {
     "iopub.execute_input": "2022-08-28T18:41:58.939073Z",
     "iopub.status.busy": "2022-08-28T18:41:58.938353Z",
     "iopub.status.idle": "2022-08-28T18:41:59.275046Z",
     "shell.execute_reply": "2022-08-28T18:41:59.274030Z",
     "shell.execute_reply.started": "2022-08-28T18:41:58.939024Z"
    }
   },
   "outputs": [
    {
     "data": {
      "text/plain": [
       "'../input/flickr8k/Images/3226254560_2f8ac147ea.jpg'"
      ]
     },
     "execution_count": 2,
     "metadata": {},
     "output_type": "execute_result"
    }
   ],
   "source": [
    "img_directory = '../input/flickr8k/Images'\n",
    "images_path = []\n",
    "\n",
    "for file in os.listdir(img_directory):\n",
    "    if file == 'flickr30k_images' or file == 'results.csv':\n",
    "        continue\n",
    "    images_path.append(os.path.join(img_directory, file))\n",
    "images_path[0]"
   ]
  },
  {
   "cell_type": "code",
   "execution_count": 3,
   "metadata": {
    "execution": {
     "iopub.execute_input": "2022-08-28T18:41:59.277051Z",
     "iopub.status.busy": "2022-08-28T18:41:59.276686Z",
     "iopub.status.idle": "2022-08-28T18:41:59.287466Z",
     "shell.execute_reply": "2022-08-28T18:41:59.286475Z",
     "shell.execute_reply.started": "2022-08-28T18:41:59.277017Z"
    }
   },
   "outputs": [
    {
     "data": {
      "text/plain": [
       "'3226254560_2f8ac147ea.jpg'"
      ]
     },
     "execution_count": 3,
     "metadata": {},
     "output_type": "execute_result"
    }
   ],
   "source": [
    "images_path[0].split('/')[4]"
   ]
  },
  {
   "cell_type": "code",
   "execution_count": 4,
   "metadata": {
    "execution": {
     "iopub.execute_input": "2022-08-28T18:41:59.292533Z",
     "iopub.status.busy": "2022-08-28T18:41:59.291457Z",
     "iopub.status.idle": "2022-08-28T18:41:59.298833Z",
     "shell.execute_reply": "2022-08-28T18:41:59.297732Z",
     "shell.execute_reply.started": "2022-08-28T18:41:59.292493Z"
    }
   },
   "outputs": [
    {
     "data": {
      "text/plain": [
       "8091"
      ]
     },
     "execution_count": 4,
     "metadata": {},
     "output_type": "execute_result"
    }
   ],
   "source": [
    "len(images_path)"
   ]
  },
  {
   "cell_type": "code",
   "execution_count": 5,
   "metadata": {
    "execution": {
     "iopub.execute_input": "2022-08-28T18:41:59.300910Z",
     "iopub.status.busy": "2022-08-28T18:41:59.300332Z",
     "iopub.status.idle": "2022-08-28T18:41:59.306411Z",
     "shell.execute_reply": "2022-08-28T18:41:59.305449Z",
     "shell.execute_reply.started": "2022-08-28T18:41:59.300876Z"
    }
   },
   "outputs": [],
   "source": [
    "# some image parameters\n",
    "img_height = 256\n",
    "img_width = 256\n",
    "n_channels = 3"
   ]
  },
  {
   "cell_type": "code",
   "execution_count": 6,
   "metadata": {
    "execution": {
     "iopub.execute_input": "2022-08-28T18:41:59.308822Z",
     "iopub.status.busy": "2022-08-28T18:41:59.308127Z",
     "iopub.status.idle": "2022-08-28T18:42:03.979923Z",
     "shell.execute_reply": "2022-08-28T18:42:03.978973Z",
     "shell.execute_reply.started": "2022-08-28T18:41:59.308789Z"
    }
   },
   "outputs": [
    {
     "name": "stderr",
     "output_type": "stream",
     "text": [
      "2022-08-28 18:41:59.423739: I tensorflow/stream_executor/cuda/cuda_gpu_executor.cc:937] successful NUMA node read from SysFS had negative value (-1), but there must be at least one NUMA node, so returning NUMA node zero\n",
      "2022-08-28 18:41:59.547326: I tensorflow/stream_executor/cuda/cuda_gpu_executor.cc:937] successful NUMA node read from SysFS had negative value (-1), but there must be at least one NUMA node, so returning NUMA node zero\n",
      "2022-08-28 18:41:59.548163: I tensorflow/stream_executor/cuda/cuda_gpu_executor.cc:937] successful NUMA node read from SysFS had negative value (-1), but there must be at least one NUMA node, so returning NUMA node zero\n",
      "2022-08-28 18:41:59.549937: I tensorflow/core/platform/cpu_feature_guard.cc:142] This TensorFlow binary is optimized with oneAPI Deep Neural Network Library (oneDNN) to use the following CPU instructions in performance-critical operations:  AVX2 AVX512F FMA\n",
      "To enable them in other operations, rebuild TensorFlow with the appropriate compiler flags.\n",
      "2022-08-28 18:41:59.550307: I tensorflow/stream_executor/cuda/cuda_gpu_executor.cc:937] successful NUMA node read from SysFS had negative value (-1), but there must be at least one NUMA node, so returning NUMA node zero\n",
      "2022-08-28 18:41:59.551034: I tensorflow/stream_executor/cuda/cuda_gpu_executor.cc:937] successful NUMA node read from SysFS had negative value (-1), but there must be at least one NUMA node, so returning NUMA node zero\n",
      "2022-08-28 18:41:59.551689: I tensorflow/stream_executor/cuda/cuda_gpu_executor.cc:937] successful NUMA node read from SysFS had negative value (-1), but there must be at least one NUMA node, so returning NUMA node zero\n",
      "2022-08-28 18:42:01.610953: I tensorflow/stream_executor/cuda/cuda_gpu_executor.cc:937] successful NUMA node read from SysFS had negative value (-1), but there must be at least one NUMA node, so returning NUMA node zero\n",
      "2022-08-28 18:42:01.612158: I tensorflow/stream_executor/cuda/cuda_gpu_executor.cc:937] successful NUMA node read from SysFS had negative value (-1), but there must be at least one NUMA node, so returning NUMA node zero\n",
      "2022-08-28 18:42:01.613236: I tensorflow/stream_executor/cuda/cuda_gpu_executor.cc:937] successful NUMA node read from SysFS had negative value (-1), but there must be at least one NUMA node, so returning NUMA node zero\n",
      "2022-08-28 18:42:01.614286: I tensorflow/core/common_runtime/gpu/gpu_device.cc:1510] Created device /job:localhost/replica:0/task:0/device:GPU:0 with 15401 MB memory:  -> device: 0, name: Tesla P100-PCIE-16GB, pci bus id: 0000:00:04.0, compute capability: 6.0\n"
     ]
    },
    {
     "name": "stdout",
     "output_type": "stream",
     "text": [
      "Downloading data from https://storage.googleapis.com/keras-applications/efficientnetb0_notop.h5\n",
      "16711680/16705208 [==============================] - 0s 0us/step\n",
      "16719872/16705208 [==============================] - 0s 0us/step\n"
     ]
    }
   ],
   "source": [
    "from tensorflow.keras.applications import efficientnet\n",
    "base_model = efficientnet.EfficientNetB0(include_top=False, weights='imagenet', input_shape=(img_height, img_width, n_channels))\n",
    "base_model.trainable = False\n",
    "base_model_out = base_model.layers[-1].output\n",
    "base_model_out = layers.Reshape((-1, base_model_out.shape[-1]))(base_model_out)\n",
    "cnn_model = keras.models.Model(base_model.input, base_model_out)"
   ]
  },
  {
   "cell_type": "code",
   "execution_count": 7,
   "metadata": {
    "execution": {
     "iopub.execute_input": "2022-08-28T18:42:03.981604Z",
     "iopub.status.busy": "2022-08-28T18:42:03.981235Z",
     "iopub.status.idle": "2022-08-28T18:42:03.992168Z",
     "shell.execute_reply": "2022-08-28T18:42:03.991029Z",
     "shell.execute_reply.started": "2022-08-28T18:42:03.981571Z"
    }
   },
   "outputs": [],
   "source": [
    "from tensorflow.keras.preprocessing.image import load_img, img_to_array\n",
    "def preprocess_image(image_directory):\n",
    "    \"\"\"Preprocesses the images into format expected by the InceptionV3 model\n",
    "    \n",
    "    expects image_directory to be a list of all the image_path to use\n",
    "    \"\"\"\n",
    "    feature_dict = {}\n",
    "    for img in tqdm(image_directory):\n",
    "        # get the image id\n",
    "        img_id = img.split('/')[4]\n",
    "        \n",
    "        # load the image and convert to array\n",
    "        img = load_img(img, target_size=(img_height, img_width))\n",
    "        img = img_to_array(img)\n",
    "        \n",
    "        # preprocess\n",
    "        img = img.reshape((1, img.shape[0], img.shape[1], img.shape[2]))\n",
    "        #img = tf.keras.applications.vgg16.preprocess_input(img)\n",
    "        \n",
    "        # extract and store in dictionary\n",
    "        feature = cnn_model(img)\n",
    "        #batch_features = tf.reshape(feature, (-1, feature.shape[3]))\n",
    "        feature_dict[img_id] = feature.numpy()\n",
    "        \n",
    "        del img, feature\n",
    "        gc.collect()\n",
    "        \n",
    "    return feature_dict"
   ]
  },
  {
   "cell_type": "code",
   "execution_count": 8,
   "metadata": {
    "execution": {
     "iopub.execute_input": "2022-08-28T18:42:03.994725Z",
     "iopub.status.busy": "2022-08-28T18:42:03.994290Z",
     "iopub.status.idle": "2022-08-28T19:16:34.795259Z",
     "shell.execute_reply": "2022-08-28T19:16:34.794274Z",
     "shell.execute_reply.started": "2022-08-28T18:42:03.994687Z"
    }
   },
   "outputs": [
    {
     "name": "stderr",
     "output_type": "stream",
     "text": [
      "  0%|          | 0/8091 [00:00<?, ?it/s]2022-08-28 18:42:04.820938: I tensorflow/stream_executor/cuda/cuda_dnn.cc:369] Loaded cuDNN version 8005\n",
      "100%|██████████| 8091/8091 [34:30<00:00,  3.91it/s]\n"
     ]
    }
   ],
   "source": [
    "feature_dict = preprocess_image(images_path)"
   ]
  },
  {
   "cell_type": "code",
   "execution_count": 9,
   "metadata": {
    "execution": {
     "iopub.execute_input": "2022-08-28T19:16:34.798035Z",
     "iopub.status.busy": "2022-08-28T19:16:34.797234Z",
     "iopub.status.idle": "2022-08-28T19:16:34.965207Z",
     "shell.execute_reply": "2022-08-28T19:16:34.964128Z",
     "shell.execute_reply.started": "2022-08-28T19:16:34.797997Z"
    }
   },
   "outputs": [
    {
     "data": {
      "text/plain": [
       "23"
      ]
     },
     "execution_count": 9,
     "metadata": {},
     "output_type": "execute_result"
    }
   ],
   "source": [
    "gc.collect()"
   ]
  },
  {
   "cell_type": "code",
   "execution_count": 10,
   "metadata": {
    "execution": {
     "iopub.execute_input": "2022-08-28T19:16:34.969616Z",
     "iopub.status.busy": "2022-08-28T19:16:34.968372Z",
     "iopub.status.idle": "2022-08-28T19:16:41.183017Z",
     "shell.execute_reply": "2022-08-28T19:16:41.181972Z",
     "shell.execute_reply.started": "2022-08-28T19:16:34.969573Z"
    }
   },
   "outputs": [],
   "source": [
    "# save for future references\n",
    "import pickle\n",
    "\n",
    "with open('feature_dict.pickle', 'wb') as handle:\n",
    "    pickle.dump(feature_dict, handle, protocol=pickle.HIGHEST_PROTOCOL)"
   ]
  },
  {
   "cell_type": "code",
   "execution_count": null,
   "metadata": {},
   "outputs": [],
   "source": []
  }
 ],
 "metadata": {
  "kernelspec": {
   "display_name": "Python 3 (ipykernel)",
   "language": "python",
   "name": "python3"
  },
  "language_info": {
   "codemirror_mode": {
    "name": "ipython",
    "version": 3
   },
   "file_extension": ".py",
   "mimetype": "text/x-python",
   "name": "python",
   "nbconvert_exporter": "python",
   "pygments_lexer": "ipython3",
   "version": "3.10.9"
  }
 },
 "nbformat": 4,
 "nbformat_minor": 4
}
